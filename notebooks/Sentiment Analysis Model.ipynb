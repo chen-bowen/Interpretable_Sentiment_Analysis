{
 "cells": [
  {
   "cell_type": "markdown",
   "metadata": {},
   "source": [
    "# Sentiment Analysis Model"
   ]
  },
  {
   "cell_type": "markdown",
   "metadata": {},
   "source": [
    "change current directory and import packages"
   ]
  },
  {
   "cell_type": "code",
   "execution_count": 1,
   "metadata": {},
   "outputs": [],
   "source": [
    "%load_ext lab_black\n",
    "import os\n",
    "import numpy as np"
   ]
  },
  {
   "cell_type": "code",
   "execution_count": 2,
   "metadata": {},
   "outputs": [],
   "source": [
    "if not os.path.exists(\"/sentiment_analysis\"):\n",
    "    os.chdir(\"..\")"
   ]
  },
  {
   "cell_type": "markdown",
   "metadata": {},
   "source": [
    "import packages"
   ]
  },
  {
   "cell_type": "code",
   "execution_count": 83,
   "metadata": {},
   "outputs": [],
   "source": [
    "from sentiment_analysis.utils.train_test_split import TrainTestSplit\n",
    "from sentiment_analysis.models.model import StreamlinedModel\n",
    "from sentiment_analysis.features.word_frequencies import WordFrequencyVectorizer\n",
    "from sentiment_analysis.data.review_processor import ReviewProcessor\n",
    "from sklearn.metrics import roc_auc_score\n",
    "import lightgbm as lgb\n",
    "import shap"
   ]
  },
  {
   "cell_type": "markdown",
   "metadata": {},
   "source": [
    "Perform train test split on the reviews data"
   ]
  },
  {
   "cell_type": "code",
   "execution_count": 4,
   "metadata": {},
   "outputs": [],
   "source": [
    "X_train, y_train, X_test, y_test = TrainTestSplit().get_split_data()"
   ]
  },
  {
   "cell_type": "markdown",
   "metadata": {},
   "source": [
    "Build Word Frequency Vectors and lightGBM model and train using the training data"
   ]
  },
  {
   "cell_type": "code",
   "execution_count": 5,
   "metadata": {},
   "outputs": [],
   "source": [
    "lightgbm = StreamlinedModel(\n",
    "    transformer_description=\"word frequency vector\",\n",
    "    transformer=WordFrequencyVectorizer,\n",
    "    model_description=\"LightGBM model\",\n",
    "    model=lgb.LGBMClassifier,\n",
    "    model_params={\n",
    "        \"application\": \"binary\",\n",
    "        \"objective\": \"binary\",\n",
    "        \"metric\": \"auc\",\n",
    "        \"is_unbalance\": \"false\",\n",
    "        \"boosting\": \"gbdt\",\n",
    "        \"num_leaves\": 31,\n",
    "        \"feature_fraction\": 0.06,\n",
    "        \"bagging_fraction\": 0.67,\n",
    "        \"bagging_freq\": 1,\n",
    "        \"learning_rate\": 0.05,\n",
    "        \"verbose_eval\": 0,\n",
    "        \"n_estimators\": 2000,\n",
    "        \"n_jobs\": 6,\n",
    "    },\n",
    ")"
   ]
  },
  {
   "cell_type": "markdown",
   "metadata": {},
   "source": [
    "train the streamlined model"
   ]
  },
  {
   "cell_type": "code",
   "execution_count": 6,
   "metadata": {},
   "outputs": [],
   "source": [
    "lightgbm.train(X_train, y_train)"
   ]
  },
  {
   "cell_type": "markdown",
   "metadata": {},
   "source": [
    "get scores"
   ]
  },
  {
   "cell_type": "code",
   "execution_count": 7,
   "metadata": {},
   "outputs": [
    {
     "name": "stdout",
     "output_type": "stream",
     "text": [
      "Train accuracy: 0.9993055555555556\n",
      "Test accuracy: 0.81125\n"
     ]
    }
   ],
   "source": [
    "print(\"Train accuracy:\", lightgbm.score(X_train, y_train))\n",
    "print(\"Test accuracy:\", lightgbm.score(X_test, y_test))"
   ]
  },
  {
   "cell_type": "markdown",
   "metadata": {},
   "source": [
    "get predictions and predicted probabilities"
   ]
  },
  {
   "cell_type": "code",
   "execution_count": 8,
   "metadata": {},
   "outputs": [],
   "source": [
    "y_pred = lightgbm.predict(X_test)\n",
    "y_prob = lightgbm.predict_proba(X_test)"
   ]
  },
  {
   "cell_type": "code",
   "execution_count": 13,
   "metadata": {},
   "outputs": [
    {
     "name": "stdout",
     "output_type": "stream",
     "text": [
      "Test ROC: 0.8921375\n"
     ]
    }
   ],
   "source": [
    "print(\"Test ROC:\", roc_auc_score(y_test, y_prob[:, 1]))"
   ]
  },
  {
   "cell_type": "markdown",
   "metadata": {},
   "source": [
    "We were able to achieve some quite amazing results with LightGBM model. The next two steps we can have a look are\n",
    "\n",
    "1. Check the most wrong positive and negative reviews\n",
    "2. use SHAP to understand which word are more likely to lead to lightGBM "
   ]
  },
  {
   "cell_type": "markdown",
   "metadata": {},
   "source": [
    "**Most wrong positive/negative reviews**"
   ]
  },
  {
   "cell_type": "markdown",
   "metadata": {},
   "source": [
    "get the raw review texts and rank by smallest distance of 0/1"
   ]
  },
  {
   "cell_type": "code",
   "execution_count": 72,
   "metadata": {},
   "outputs": [],
   "source": [
    "wrong_positive_inds = np.where((y_test == 1) & (y_pred != y_test))[0]\n",
    "wrong_negative_inds = np.where((y_test == 0) & (y_pred != y_test))[0]"
   ]
  },
  {
   "cell_type": "code",
   "execution_count": 53,
   "metadata": {},
   "outputs": [],
   "source": [
    "most_wrong_positive_index = y_prob[:, 1][wrong_positive_inds].argmin()\n",
    "most_wrong_negative_index = y_prob[:, 1][wrong_negative_inds].argmax()"
   ]
  },
  {
   "cell_type": "code",
   "execution_count": 81,
   "metadata": {},
   "outputs": [
    {
     "name": "stdout",
     "output_type": "stream",
     "text": [
      "Most wrong positive review: \n",
      "\n",
      "\n",
      "Before I saw this sequel, I had heard and read that it was a terrible film. However, Be Cool is still an enjoyable comedy even if it's not as good as the original. It's full of so much self-deprecating humor that you can't help but cut it a break. I laughed quite a few times, and there are a lot of fun moments.\n",
      "\n",
      "However, the film is a bit uneven. The movie tries hard to find the humor in hit men and quirky characters, but it often seems to be trying a bit too hard. John Travolta reprises his role as Chili Palmer, Hollywood gangster, who now turns his eye to the music business. Using his \"negotiation skills,\" he tries to run an independent record label with the wife of a murdered friend, played by Uma Thurman, and try to get his young singer (Christina Milian) a hit record.\n",
      "\n",
      "An impressive cast is what saves the movie from sinking. The best performance is given by The Rock and it's nice to see him in a different type of role. Vince Vaughn also gives a funny performance though he started to get annoying before the end. Surprisingly, Uma Thurman gives an average performance and I was expecting more from her. John Travolta done an average job in his role but his performance was kind of dull. Christina Milian gives a horrible performance and she's also not that good of a singer. Cedric the Entertainer gives a good performance though he isn't in the film for very long. Andre 3000 had some funny moments and done a decent job as well. There are also a bunch of cameos including Steven Tyler and James Wood.\n",
      "\n",
      "F. Gary Gray directs and he does a poor job. He just doesn't handle the film very well and the movie is kind of a mess. There was also a ton of product placement and it got annoying after awhile. Also at 118 minutes, the film is too long and there are a lot of slow spots. The film needed to be edited badly and it clearly wasn't. Fortunately for the film, the actors are able to rise above the weak direction and script and they deliver some funny scenes. Sometimes, the film tried too hard while other times it was actually pretty funny. Compared to the original, the sequel doesn't measure up well. However, Be Cool is a fairly harmless and forgettable comedy. In the end, Be Cool is worth a rental and that's it.\n",
      "\n"
     ]
    }
   ],
   "source": [
    "print(\"Most wrong positive review: \\n\")\n",
    "\n",
    "print(np.array(X_test)[most_wrong_positive_index])"
   ]
  },
  {
   "cell_type": "code",
   "execution_count": 82,
   "metadata": {},
   "outputs": [
    {
     "name": "stdout",
     "output_type": "stream",
     "text": [
      "Most wrong negative review: \n",
      "\n",
      "\n",
      "Theres not alot I can say about measuring spoons really. They are made to a high standard, durable, easy to clean and dishwasher safe. At this price I dont see why you would need to pay more for a set of measuring spoons unless it was for decorative reasons\n",
      "\n"
     ]
    }
   ],
   "source": [
    "print(\"Most wrong negative review: \\n\")\n",
    "\n",
    "print(np.array(X_test)[most_wrong_negative_index])"
   ]
  },
  {
   "cell_type": "markdown",
   "metadata": {},
   "source": [
    "As we can see, the most wrong positive/negative reviews would be pretty tough to get right. Even with human"
   ]
  }
 ],
 "metadata": {
  "kernelspec": {
   "display_name": "sentiment_analysis",
   "language": "python",
   "name": "sentiment_analysis"
  },
  "language_info": {
   "codemirror_mode": {
    "name": "ipython",
    "version": 3
   },
   "file_extension": ".py",
   "mimetype": "text/x-python",
   "name": "python",
   "nbconvert_exporter": "python",
   "pygments_lexer": "ipython3",
   "version": "3.7.7"
  }
 },
 "nbformat": 4,
 "nbformat_minor": 4
}
